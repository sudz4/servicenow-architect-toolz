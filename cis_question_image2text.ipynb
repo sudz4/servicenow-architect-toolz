{
 "cells": [
  {
   "cell_type": "code",
   "execution_count": 1,
   "metadata": {},
   "outputs": [
    {
     "name": "stdout",
     "output_type": "stream",
     "text": [
      "Knowledge Check\n",
      "Which attributes are associated to Cl Identifiers?\n",
      "Select all that apply\n",
      " Identity a specific device\n",
      " Used during the Scanning phase\n",
      " Helps prevent duplicate Cls\n",
      " Entries are tried in order until a complete match is found\n",
      " if no match is found, an error will occur\n"
     ]
    }
   ],
   "source": [
    "from PIL import Image\n",
    "import pytesseract\n",
    "\n",
    "# Open image file\n",
    "img = Image.open(\"cis_question_image2text_data/question_identifiers.png\")\n",
    "# Use pytesseract to do OCR on the image\n",
    "text = pytesseract.image_to_string(img)\n",
    "\n",
    "# Split the text into lines\n",
    "lines = text.split('\\n')\n",
    "\n",
    "# Remove empty lines\n",
    "lines = [line for line in lines if line.strip() != '']\n",
    "\n",
    "# Replace some of the incorrectly recognized characters\n",
    "lines = [line.replace('BW', '').replace('B®', '').replace('B/', '').replace('BB', '') for line in lines]\n",
    "\n",
    "# Join the lines back together\n",
    "clean_text = '\\n'.join(lines)\n",
    "\n",
    "print(clean_text)\n"
   ]
  }
 ],
 "metadata": {
  "kernelspec": {
   "display_name": "sat_venv",
   "language": "python",
   "name": "python3"
  },
  "language_info": {
   "codemirror_mode": {
    "name": "ipython",
    "version": 3
   },
   "file_extension": ".py",
   "mimetype": "text/x-python",
   "name": "python",
   "nbconvert_exporter": "python",
   "pygments_lexer": "ipython3",
   "version": "3.11.1"
  },
  "orig_nbformat": 4
 },
 "nbformat": 4,
 "nbformat_minor": 2
}
