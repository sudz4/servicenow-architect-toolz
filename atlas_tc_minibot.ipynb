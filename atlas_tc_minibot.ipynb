{
 "cells": [
  {
   "cell_type": "code",
   "execution_count": 1,
   "metadata": {},
   "outputs": [
    {
     "ename": "ValidationError",
     "evalue": "1 validation error for LLMChain\nllm\n  value is not a valid dict (type=type_error.dict)",
     "output_type": "error",
     "traceback": [
      "\u001b[0;31m---------------------------------------------------------------------------\u001b[0m",
      "\u001b[0;31mValidationError\u001b[0m                           Traceback (most recent call last)",
      "Cell \u001b[0;32mIn[1], line 37\u001b[0m\n\u001b[1;32m     23\u001b[0m prompt \u001b[39m=\u001b[39m PromptTemplate( \u001b[39m# IMPORTANT - the prompt template expects a variable named \"daily_objectives\". This is the variable that will be used in the prompt template.\u001b[39;00m\n\u001b[1;32m     24\u001b[0m     input_variables\u001b[39m=\u001b[39m[\u001b[39m\"\u001b[39m\u001b[39mdaily_objectives\u001b[39m\u001b[39m\"\u001b[39m],\n\u001b[1;32m     25\u001b[0m     template\u001b[39m=\u001b[39m\u001b[39m\"\"\"\u001b[39m\n\u001b[0;32m   (...)\u001b[0m\n\u001b[1;32m     33\u001b[0m \u001b[39m    \u001b[39m\u001b[39m\"\"\"\u001b[39m\n\u001b[1;32m     34\u001b[0m )\n\u001b[1;32m     36\u001b[0m \u001b[39m# Create the LLM chain\u001b[39;00m\n\u001b[0;32m---> 37\u001b[0m chain \u001b[39m=\u001b[39m LLMChain(llm\u001b[39m=\u001b[39;49m\u001b[39m\"\u001b[39;49m\u001b[39mtext-davinci-003\u001b[39;49m\u001b[39m\"\u001b[39;49m, prompt\u001b[39m=\u001b[39;49mprompt)\n\u001b[1;32m     39\u001b[0m \u001b[39m# ENTER Daily Objectives for today\u001b[39;00m\n\u001b[1;32m     40\u001b[0m daily_objectives \u001b[39m=\u001b[39m \u001b[39m\"\"\"\u001b[39m\n\u001b[1;32m     41\u001b[0m \u001b[39m1. Epic and stories development with workstream leads and product team for Inovalon\u001b[39m\n\u001b[1;32m     42\u001b[0m \u001b[39m2. Assist sales with statement of work (SOW) for Inovalon.\u001b[39m\n\u001b[1;32m     43\u001b[0m \u001b[39m\"\"\"\u001b[39m\n",
      "File \u001b[0;32m~/Desktop/SUDZ4DEV/servicenow-architect-toolz/sat_venv/lib/python3.11/site-packages/langchain/load/serializable.py:74\u001b[0m, in \u001b[0;36mSerializable.__init__\u001b[0;34m(self, **kwargs)\u001b[0m\n\u001b[1;32m     73\u001b[0m \u001b[39mdef\u001b[39;00m \u001b[39m__init__\u001b[39m(\u001b[39mself\u001b[39m, \u001b[39m*\u001b[39m\u001b[39m*\u001b[39mkwargs: Any) \u001b[39m-\u001b[39m\u001b[39m>\u001b[39m \u001b[39mNone\u001b[39;00m:\n\u001b[0;32m---> 74\u001b[0m     \u001b[39msuper\u001b[39;49m()\u001b[39m.\u001b[39;49m\u001b[39m__init__\u001b[39;49m(\u001b[39m*\u001b[39;49m\u001b[39m*\u001b[39;49mkwargs)\n\u001b[1;32m     75\u001b[0m     \u001b[39mself\u001b[39m\u001b[39m.\u001b[39m_lc_kwargs \u001b[39m=\u001b[39m kwargs\n",
      "File \u001b[0;32m~/Desktop/SUDZ4DEV/servicenow-architect-toolz/sat_venv/lib/python3.11/site-packages/pydantic/main.py:341\u001b[0m, in \u001b[0;36mpydantic.main.BaseModel.__init__\u001b[0;34m()\u001b[0m\n",
      "\u001b[0;31mValidationError\u001b[0m: 1 validation error for LLMChain\nllm\n  value is not a valid dict (type=type_error.dict)"
     ]
    }
   ],
   "source": [
    "# --------------------------------------------------------------\n",
    "# PROJECT BILLABLE HOURS DAYS\n",
    "# --------------------------------------------------------------\n",
    "\n",
    "import os\n",
    "from langchain.llms import OpenAI\n",
    "from langchain import PromptTemplate\n",
    "from langchain.chains import LLMChain\n",
    "from dotenv import load_dotenv, find_dotenv\n",
    "\n",
    "# Load API key\n",
    "load_dotenv(find_dotenv())\n",
    "\n",
    "# Get API key\n",
    "api_key = os.getenv(\"OPENAI_API_KEY\")\n",
    "\n",
    "# Initialize LLM\n",
    "# GPT-3 Model\n",
    "llm = OpenAI(model_name=\"text-davinci-003\", model_kwargs={\"api_key\": api_key})\n",
    "\n",
    "\n",
    "# Prompt template\n",
    "prompt = PromptTemplate( # IMPORTANT - the prompt template expects a variable named \"daily_objectives\". This is the variable that will be used in the prompt template.\n",
    "    input_variables=[\"daily_objectives\"],\n",
    "    template=\"\"\"\n",
    "    Daily Objectives:\n",
    "    {daily_objectives} \n",
    "    In order to help me fill out my timecard more quickly as a ServiceNow Solution Architect,\n",
    "    Please generate Daily Accomplishments for each of these objectives.\n",
    "    -I also want you to correct any grammar and perform necessary sentence completion on the input (Daily Objective).\n",
    "    -Also, get creative with your response.\n",
    "    \n",
    "    \"\"\"\n",
    ")\n",
    "\n",
    "# Create the LLM chain\n",
    "chain = LLMChain(llm=llm, prompt=prompt)\n",
    "\n",
    "# ENTER Daily Objectives for today\n",
    "daily_objectives = \"\"\"\n",
    "1. Epic and stories development with workstream leads and product team for Inovalon\n",
    "2. Assist sales with statement of work (SOW) for Inovalon.\n",
    "\"\"\"\n",
    "\n",
    "# Get the response from the model\n",
    "response = chain.run({\"daily_objectives\": daily_objectives})\n",
    "\n",
    "# Remove leading and trailing white spaces from both daily objectives and response\n",
    "daily_objectives = daily_objectives.strip()\n",
    "response = response.strip()\n",
    "\n",
    "# Format the output\n",
    "output = f'Daily Objectives:\\n{daily_objectives}\\n\\nDaily Accomplishments:\\n{response}\\n'\n",
    "\n",
    "# Save the output to a .txt file\n",
    "with open(\"timecard_entry.txt\", \"w\") as f:\n",
    "    f.write(output)\n",
    "\n",
    "print(\"Timecard entry saved to 'timecard_entry.txt'\")\n",
    "print(output) # print to terminal\n"
   ]
  }
 ],
 "metadata": {
  "kernelspec": {
   "display_name": "sat_venv",
   "language": "python",
   "name": "python3"
  },
  "language_info": {
   "codemirror_mode": {
    "name": "ipython",
    "version": 3
   },
   "file_extension": ".py",
   "mimetype": "text/x-python",
   "name": "python",
   "nbconvert_exporter": "python",
   "pygments_lexer": "ipython3",
   "version": "3.11.1"
  },
  "orig_nbformat": 4
 },
 "nbformat": 4,
 "nbformat_minor": 2
}
