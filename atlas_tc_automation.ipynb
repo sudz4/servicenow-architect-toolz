{
 "cells": [
  {
   "cell_type": "code",
   "execution_count": 8,
   "metadata": {},
   "outputs": [
    {
     "name": "stdout",
     "output_type": "stream",
     "text": [
      "Timecard entry saved to 'timecard_entry.txt'\n",
      "Daily Objectives:\n",
      "1. Inovalon on-site Charlotte Remote 3P Launch\n",
      "2. Develop project story schema for Inovalon.\n",
      "\n",
      "Daily Accomplishments:\n",
      "1. Today, I successfully launched the Inovalon 3P remote services in Charlotte, ensuring that all stakeholders were able to access the new service in the most efficient manner. I worked with the team to troubleshoot any technical issues, communicated with clients to understand their needs, and ensured that the project was completed on-time and within budget.\n",
      "\n",
      "2. I created and developed an optimized project story schema for the Inovalon project, which will help to streamline the project process and ensure that all stakeholders have the information they need to make informed decisions. I also worked with the team to thoroughly review the schema and ensure that it meets the needs of the project.\n",
      "\n"
     ]
    }
   ],
   "source": [
    "# --------------------------------------------------------------\n",
    "# PROJECT BILLABLE HOURS DAYS\n",
    "# --------------------------------------------------------------\n",
    "\n",
    "import os\n",
    "from langchain.llms import OpenAI\n",
    "from langchain import PromptTemplate\n",
    "from langchain.chains import LLMChain\n",
    "from dotenv import load_dotenv, find_dotenv\n",
    "\n",
    "# Load API key\n",
    "load_dotenv(find_dotenv())\n",
    "\n",
    "# Get API key\n",
    "api_key = os.getenv(\"OPENAI_API_KEY\")\n",
    "\n",
    "# Initialize LLM\n",
    "llm = OpenAI(model_name=\"text-davinci-003\", model_kwargs={\"api_key\": api_key})\n",
    "\n",
    "# Prompt template\n",
    "prompt = PromptTemplate( # IMPORTANT - the prompt template expects a variable named \"daily_objectives\". This is the variable that will be used in the prompt template.\n",
    "    input_variables=[\"daily_objectives\"],\n",
    "    template=\"\"\"\n",
    "    Daily Objectives:\n",
    "    {daily_objectives} \n",
    "    In order to help me fill out my timecard more quickly as a ServiceNow Solution Architect,\n",
    "    Please generate Daily Accomplishments for each of these objectives.\n",
    "    -I also want you to correct any grammar and perform necessary sentence completion on the input (Daily Objective).\n",
    "    -Also, get creative with your response.\n",
    "    \n",
    "    \"\"\"\n",
    ")\n",
    "\n",
    "# Create the LLM chain\n",
    "chain = LLMChain(llm=llm, prompt=prompt)\n",
    "\n",
    "# ENTER Daily Objectives for today\n",
    "daily_objectives = \"\"\"\n",
    "1. Inovalon on-site Charlotte Remote 3P Launch\n",
    "2. Develop project story schema for Inovalon.\n",
    "\"\"\"\n",
    "\n",
    "# Get the response from the model\n",
    "response = chain.run({\"daily_objectives\": daily_objectives})\n",
    "\n",
    "# Remove leading and trailing white spaces from both daily objectives and response\n",
    "daily_objectives = daily_objectives.strip()\n",
    "response = response.strip()\n",
    "\n",
    "# Format the output\n",
    "output = f'Daily Objectives:\\n{daily_objectives}\\n\\nDaily Accomplishments:\\n{response}\\n'\n",
    "\n",
    "# Save the output to a .txt file\n",
    "with open(\"timecard_entry.txt\", \"w\") as f:\n",
    "    f.write(output)\n",
    "\n",
    "print(\"Timecard entry saved to 'timecard_entry.txt'\")\n",
    "print(output) # print to terminal\n"
   ]
  }
 ],
 "metadata": {
  "kernelspec": {
   "display_name": "sat_venv",
   "language": "python",
   "name": "python3"
  },
  "language_info": {
   "codemirror_mode": {
    "name": "ipython",
    "version": 3
   },
   "file_extension": ".py",
   "mimetype": "text/x-python",
   "name": "python",
   "nbconvert_exporter": "python",
   "pygments_lexer": "ipython3",
   "version": "3.11.1"
  },
  "orig_nbformat": 4
 },
 "nbformat": 4,
 "nbformat_minor": 2
}
