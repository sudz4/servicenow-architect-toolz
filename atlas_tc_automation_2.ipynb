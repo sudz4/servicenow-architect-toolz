{
 "cells": [
  {
   "cell_type": "code",
   "execution_count": 1,
   "metadata": {},
   "outputs": [],
   "source": [
    "# --------------------------------------------------------------\n",
    "# PROJECT BILLABLE HOURS DAYS\n",
    "# --------------------------------------------------------------\n",
    "\n",
    "import os\n",
    "from langchain.llms import OpenAI\n",
    "from langchain import PromptTemplate\n",
    "from langchain.chains import LLMChain\n",
    "from dotenv import load_dotenv, find_dotenv\n",
    "import openai\n",
    "\n",
    "# Load API key\n",
    "load_dotenv(find_dotenv())\n",
    "\n",
    "# Get API key\n",
    "api_key = os.getenv(\"OPENAI_API_KEY\")"
   ]
  },
  {
   "cell_type": "code",
   "execution_count": 8,
   "metadata": {},
   "outputs": [
    {
     "name": "stdout",
     "output_type": "stream",
     "text": [
      "{\n",
      "  \"id\": \"chatcmpl-7iGHEkmO8MFc5YkoPcladSuXQZHEd\",\n",
      "  \"object\": \"chat.completion\",\n",
      "  \"created\": 1690783356,\n",
      "  \"model\": \"gpt-4-0613\",\n",
      "  \"choices\": [\n",
      "    {\n",
      "      \"index\": 0,\n",
      "      \"message\": {\n",
      "        \"role\": \"assistant\",\n",
      "        \"content\": \"I would be happy to talk about ServiceNow! ServiceNow is a cloud-based IT Service Management (ITSM) tool that is designed to automate business processes in various departments within an organization. It's used by many large companies to maintain and track their IT systems and services.\\n\\nServiceNow offers a wide range of products and services that can enable businesses to work more efficiently. These include IT service automation applications, IT business management applications, customer service applications, security applications, and more. It runs as a single data model architecture.\\n\\nOne of the major advantages of ServiceNow is that it standardizes service management to make processes consistent and predictable. It also has a user-friendly interface that incorporates real-time analytics and powerful reporting capabilities.\\n\\nThe goal of ServiceNow is to make work more intuitive and streamline the way businesses operate. It seeks to enable digital workflows that unlock productivity and improve experiences for employees and customers.\"\n",
      "      },\n",
      "      \"finish_reason\": \"stop\"\n",
      "    }\n",
      "  ],\n",
      "  \"usage\": {\n",
      "    \"prompt_tokens\": 17,\n",
      "    \"completion_tokens\": 179,\n",
      "    \"total_tokens\": 196\n",
      "  }\n",
      "}\n",
      "[{'role': 'user', 'content': 'Hey sudz, lets talk about ServiceNow...'}]\n"
     ]
    }
   ],
   "source": [
    "# assign model id\n",
    "model_id = 'gpt-4'\n",
    "\n",
    "def chatgpt_conversation(conversation_Log):\n",
    "    response = openai.ChatCompletion.create(\n",
    "        model=model_id,\n",
    "        messages=conversation_Log\n",
    "    )\n",
    "    print(response) # print the response object\n",
    "\n",
    "    conversation_Log.append({\n",
    "        'role': response.choices[0].message.content.strip(),\n",
    "        'response': response.choices[0].message.strip(),\n",
    "        'content' : response.choices[0].message.content.strip()\n",
    "    })\n",
    "    return conversation_Log # get the convo log\n",
    "\n",
    "conversations= []\n",
    "# roles = system, user, assistant\n",
    "conversations.append({'role': 'user', \n",
    "                      'content': 'Hey sudz, lets talk about ServiceNow...'})\n",
    "conversations = chatgpt_conversation(conversations)\n",
    "\n",
    "print(conversations)"
   ]
  }
 ],
 "metadata": {
  "kernelspec": {
   "display_name": "sat_venv",
   "language": "python",
   "name": "python3"
  },
  "language_info": {
   "codemirror_mode": {
    "name": "ipython",
    "version": 3
   },
   "file_extension": ".py",
   "mimetype": "text/x-python",
   "name": "python",
   "nbconvert_exporter": "python",
   "pygments_lexer": "ipython3",
   "version": "3.11.1"
  },
  "orig_nbformat": 4
 },
 "nbformat": 4,
 "nbformat_minor": 2
}
