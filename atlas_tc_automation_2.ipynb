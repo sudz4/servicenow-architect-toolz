{
 "cells": [
  {
   "cell_type": "code",
   "execution_count": 1,
   "metadata": {},
   "outputs": [],
   "source": [
    "# --------------------------------------------------------------\n",
    "# PROJECT BILLABLE HOURS DAYS\n",
    "# --------------------------------------------------------------\n",
    "\n",
    "import os\n",
    "from langchain.llms import OpenAI\n",
    "from langchain import PromptTemplate\n",
    "from langchain.chains import LLMChain\n",
    "from dotenv import load_dotenv, find_dotenv\n",
    "import openai\n",
    "\n",
    "# Load API key\n",
    "load_dotenv(find_dotenv())\n",
    "\n",
    "# Get API key\n",
    "api_key = os.getenv(\"OPENAI_API_KEY\")"
   ]
  },
  {
   "cell_type": "code",
   "execution_count": null,
   "metadata": {},
   "outputs": [],
   "source": [
    "# assign model id\n",
    "model_id = 'gpt-4'\n",
    "\n",
    "def chatgpt_conversation(conversation_Log):\n",
    "    response = openai.ChatCompletion.create(\n",
    "        model=model_id,\n",
    "        messages=conversation_Log\n",
    "    )\n",
    "    print(response)  # print the response object\n",
    "\n",
    "    # extract the role and content from the response message\n",
    "    role = response.choices[0].message['role']\n",
    "    content = response.choices[0].message['content']\n",
    "    \n",
    "    conversation_Log.append({\n",
    "        'role': role.strip(),\n",
    "        'content': content.strip(),\n",
    "    })\n",
    "    return conversation_Log  # get the convo log\n",
    "\n",
    "conversations = []\n",
    "# roles = system, user, assistant\n",
    "conversations.append({\n",
    "    'role': 'system', \n",
    "    'content': 'Hey sudz, I am a ServiceNow Certified Master Architect Assistant.'\n",
    "})\n",
    "conversations = chatgpt_conversation(conversations)\n",
    "\n",
    "while True:\n",
    "    prompt = input('User:')\n",
    "    conversations.append({'role': 'user', 'content': prompt})\n",
    "    conversations = chatgpt_conversation(conversations)\n",
    "    print(conversations)\n",
    "    print()\n",
    "    print('{0}: {1}\\n'.format(conversations[-1]['role'].strip(), conversations[-1]['content'].strip()))\n"
   ]
  }
 ],
 "metadata": {
  "kernelspec": {
   "display_name": "sat_venv",
   "language": "python",
   "name": "python3"
  },
  "language_info": {
   "codemirror_mode": {
    "name": "ipython",
    "version": 3
   },
   "file_extension": ".py",
   "mimetype": "text/x-python",
   "name": "python",
   "nbconvert_exporter": "python",
   "pygments_lexer": "ipython3",
   "version": "3.11.1"
  },
  "orig_nbformat": 4
 },
 "nbformat": 4,
 "nbformat_minor": 2
}
