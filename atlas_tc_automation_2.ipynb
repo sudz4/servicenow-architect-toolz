{
 "cells": [
  {
   "cell_type": "code",
   "execution_count": 1,
   "metadata": {},
   "outputs": [],
   "source": [
    "# --------------------------------------------------------------\n",
    "# PROJECT BILLABLE HOURS DAYS\n",
    "# --------------------------------------------------------------\n",
    "\n",
    "import os\n",
    "from langchain.llms import OpenAI\n",
    "from langchain import PromptTemplate\n",
    "from langchain.chains import LLMChain\n",
    "from dotenv import load_dotenv, find_dotenv\n",
    "import openai\n",
    "\n",
    "# Load API key\n",
    "load_dotenv(find_dotenv())\n",
    "\n",
    "# Get API key\n",
    "api_key = os.getenv(\"OPENAI_API_KEY\")"
   ]
  },
  {
   "cell_type": "code",
   "execution_count": 7,
   "metadata": {},
   "outputs": [
    {
     "ename": "AttributeError",
     "evalue": "'list' object has no attribute 'choices'",
     "output_type": "error",
     "traceback": [
      "\u001b[0;31m---------------------------------------------------------------------------\u001b[0m",
      "\u001b[0;31mAttributeError\u001b[0m                            Traceback (most recent call last)",
      "Cell \u001b[0;32mIn[7], line 18\u001b[0m\n\u001b[1;32m     14\u001b[0m conversations\u001b[39m.\u001b[39mappend({\u001b[39m'\u001b[39m\u001b[39mrole\u001b[39m\u001b[39m'\u001b[39m: \u001b[39m'\u001b[39m\u001b[39muser\u001b[39m\u001b[39m'\u001b[39m, \n\u001b[1;32m     15\u001b[0m                       \u001b[39m'\u001b[39m\u001b[39mcontent\u001b[39m\u001b[39m'\u001b[39m: \u001b[39m'\u001b[39m\u001b[39mHey sudz, lets talk about ServiceNow...\u001b[39m\u001b[39m'\u001b[39m})\n\u001b[1;32m     17\u001b[0m conversations \u001b[39m=\u001b[39m chatgpt_conversation(conversations)\n\u001b[0;32m---> 18\u001b[0m conversations\u001b[39m.\u001b[39;49mchoices[\u001b[39m0\u001b[39m]\u001b[39m.\u001b[39mmessage\u001b[39m.\u001b[39mcontent \u001b[39m# reference the choice key and get a list.\u001b[39;00m\n\u001b[1;32m     19\u001b[0m \u001b[39m# the response is always the first element in the list (at index 0)\u001b[39;00m\n\u001b[1;32m     21\u001b[0m \u001b[39mprint\u001b[39m(conversations)\n",
      "\u001b[0;31mAttributeError\u001b[0m: 'list' object has no attribute 'choices'"
     ]
    }
   ],
   "source": [
    "# assign model id\n",
    "model_id = 'gpt-4'\n",
    "\n",
    "def chatgpt_conversation(conversation_Log):\n",
    "    response = openai.ChatCompletion.create(\n",
    "        model=model_id,\n",
    "        messages=conversation_Log\n",
    "    )\n",
    "    print(response) # print the response object\n",
    "    return conversation_Log # get the convo log\n",
    "\n",
    "conversations= []\n",
    "# roles = system, user, assistant\n",
    "conversations.append({'role': 'user', \n",
    "                      'content': 'Hey sudz, lets talk about ServiceNow...'})\n",
    "\n",
    "conversations = chatgpt_conversation(conversations)\n",
    "conversations.choices[0].message.content # reference the choice key and get a list.\n",
    "# the response is always the first element in the list (at index 0)\n",
    "\n",
    "print(conversations)"
   ]
  }
 ],
 "metadata": {
  "kernelspec": {
   "display_name": "sat_venv",
   "language": "python",
   "name": "python3"
  },
  "language_info": {
   "codemirror_mode": {
    "name": "ipython",
    "version": 3
   },
   "file_extension": ".py",
   "mimetype": "text/x-python",
   "name": "python",
   "nbconvert_exporter": "python",
   "pygments_lexer": "ipython3",
   "version": "3.11.1"
  },
  "orig_nbformat": 4
 },
 "nbformat": 4,
 "nbformat_minor": 2
}
