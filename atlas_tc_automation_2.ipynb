{
 "cells": [
  {
   "cell_type": "code",
   "execution_count": 1,
   "metadata": {},
   "outputs": [],
   "source": [
    "# --------------------------------------------------------------\n",
    "# PROJECT BILLABLE HOURS DAYS\n",
    "# --------------------------------------------------------------\n",
    "\n",
    "import os\n",
    "from langchain.llms import OpenAI\n",
    "from langchain import PromptTemplate\n",
    "from langchain.chains import LLMChain\n",
    "from dotenv import load_dotenv, find_dotenv\n",
    "import openai\n",
    "\n",
    "# Load API key\n",
    "load_dotenv(find_dotenv())\n",
    "\n",
    "# Get API key\n",
    "api_key = os.getenv(\"OPENAI_API_KEY\")"
   ]
  },
  {
   "cell_type": "code",
   "execution_count": 4,
   "metadata": {},
   "outputs": [],
   "source": [
    "# assign model id\n",
    "model_id = 'gpt-4'\n",
    "\n",
    "def chatgpt_conversation(conversation_Log):\n",
    "    response = openai.ChatCompletion.create(\n",
    "        model=model_id,\n",
    "        messages=conversation_Log\n",
    "    )\n",
    "    return response\n",
    "\n",
    "conversations= []\n",
    "# roles = system, user, assistant\n",
    "conversations.append({'role': 'user', 'content': 'Tell me something esoteric about ServiceNow.'})\n",
    "conversations = chatgpt_conversation(conversations)\n"
   ]
  },
  {
   "cell_type": "code",
   "execution_count": 5,
   "metadata": {},
   "outputs": [
    {
     "data": {
      "text/plain": [
       "<OpenAIObject chat.completion id=chatcmpl-7iFzrSbuNbrPeh2Zpa89Jo3Jk1TLZ at 0x128128110> JSON: {\n",
       "  \"id\": \"chatcmpl-7iFzrSbuNbrPeh2Zpa89Jo3Jk1TLZ\",\n",
       "  \"object\": \"chat.completion\",\n",
       "  \"created\": 1690782279,\n",
       "  \"model\": \"gpt-4-0613\",\n",
       "  \"choices\": [\n",
       "    {\n",
       "      \"index\": 0,\n",
       "      \"message\": {\n",
       "        \"role\": \"assistant\",\n",
       "        \"content\": \"ServiceNow, despite being a popular cloud computing platform, has an esoteric feature known as the \\\"Eureka\\\" release. This was one of the historical releases named after various scientific principles or elements and it included several unique updates that didn't receive widespread attention. One such feature was the introduction of \\\"Visual Task Boards\\\" which allowed users to manage and visualize tasks in a much more user-friendly way, similar to platforms like Trello. After the Eureka release, ServiceNow notably changed their naming convention for updates to be based on cities, rather than scientific themes.\"\n",
       "      },\n",
       "      \"finish_reason\": \"stop\"\n",
       "    }\n",
       "  ],\n",
       "  \"usage\": {\n",
       "    \"prompt_tokens\": 16,\n",
       "    \"completion_tokens\": 113,\n",
       "    \"total_tokens\": 129\n",
       "  }\n",
       "}"
      ]
     },
     "execution_count": 5,
     "metadata": {},
     "output_type": "execute_result"
    }
   ],
   "source": [
    "conversations"
   ]
  }
 ],
 "metadata": {
  "kernelspec": {
   "display_name": "sat_venv",
   "language": "python",
   "name": "python3"
  },
  "language_info": {
   "codemirror_mode": {
    "name": "ipython",
    "version": 3
   },
   "file_extension": ".py",
   "mimetype": "text/x-python",
   "name": "python",
   "nbconvert_exporter": "python",
   "pygments_lexer": "ipython3",
   "version": "3.11.1"
  },
  "orig_nbformat": 4
 },
 "nbformat": 4,
 "nbformat_minor": 2
}
