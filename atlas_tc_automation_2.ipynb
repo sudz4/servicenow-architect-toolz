{
 "cells": [
  {
   "cell_type": "code",
   "execution_count": 1,
   "metadata": {},
   "outputs": [],
   "source": [
    "# --------------------------------------------------------------\n",
    "# PROJECT BILLABLE HOURS DAYS\n",
    "# --------------------------------------------------------------\n",
    "\n",
    "import os\n",
    "from langchain.llms import OpenAI\n",
    "from langchain import PromptTemplate\n",
    "from langchain.chains import LLMChain\n",
    "from dotenv import load_dotenv, find_dotenv\n",
    "import openai\n",
    "\n",
    "# Load API key\n",
    "load_dotenv(find_dotenv())\n",
    "\n",
    "# Get API key\n",
    "api_key = os.getenv(\"OPENAI_API_KEY\")"
   ]
  },
  {
   "cell_type": "code",
   "execution_count": null,
   "metadata": {},
   "outputs": [],
   "source": [
    "# assign model id\n",
    "model_id = 'gpt-4-32k'\n",
    "\n",
    "def chatgpt_conversation(conversation_Log):\n",
    "    response = openai.ChatCompletion.create(\n",
    "        model=model_id,\n",
    "        messages=conversation_Log\n",
    "    )\n",
    "    return response\n",
    "\n",
    "conversations= []\n",
    "# roles = system, user, assistant\n",
    "conversations.append({'role': 'user', 'content': 'Tell me something esoteric about ServiceNow.'})\n",
    "print(conversations)"
   ]
  }
 ],
 "metadata": {
  "kernelspec": {
   "display_name": "sat_venv",
   "language": "python",
   "name": "python3"
  },
  "language_info": {
   "codemirror_mode": {
    "name": "ipython",
    "version": 3
   },
   "file_extension": ".py",
   "mimetype": "text/x-python",
   "name": "python",
   "nbconvert_exporter": "python",
   "pygments_lexer": "ipython3",
   "version": "3.11.1"
  },
  "orig_nbformat": 4
 },
 "nbformat": 4,
 "nbformat_minor": 2
}
